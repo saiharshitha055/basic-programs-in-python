{
 "cells": [
  {
   "cell_type": "code",
   "execution_count": 1,
   "id": "e4dee881",
   "metadata": {},
   "outputs": [],
   "source": [
    "#to create a user-defined function of a factorial\n",
    "def factorial(n):\n",
    "    if n<0:\n",
    "        return \"Factorial is not defined for negative numbers\"\n",
    "    elif n==0 or n==1:\n",
    "        return 1\n",
    "    else:\n",
    "        return n*factorial(n-1)\n",
    "    print(factorial(5))"
   ]
  },
  {
   "cell_type": "code",
   "execution_count": 2,
   "id": "21d8fd63",
   "metadata": {},
   "outputs": [
    {
     "name": "stdout",
     "output_type": "stream",
     "text": [
      "The result is: 48\n"
     ]
    }
   ],
   "source": [
    "#to create a function with positional arguments\n",
    "def multiply(a,b):\n",
    "    return a*b\n",
    "result=multiply(6,8)\n",
    "print(\"The result is:\",result)"
   ]
  },
  {
   "cell_type": "code",
   "execution_count": 3,
   "id": "1e90f5e6",
   "metadata": {},
   "outputs": [
    {
     "name": "stdout",
     "output_type": "stream",
     "text": [
      "The factorial of 5 is: 120\n"
     ]
    }
   ],
   "source": [
    "#to create a pre-defined function of a factorial\n",
    "import math\n",
    "num=5\n",
    "result=math.factorial(num)\n",
    "print(\"The factorial of\",num, \"is:\",result)"
   ]
  },
  {
   "cell_type": "code",
   "execution_count": 5,
   "id": "5b19c1ec",
   "metadata": {},
   "outputs": [
    {
     "name": "stdout",
     "output_type": "stream",
     "text": [
      "the square is: 36\n"
     ]
    }
   ],
   "source": [
    "#function to return square of a number\n",
    "def square(num):\n",
    "    return num**2\n",
    "result=square(6)\n",
    "print(\"the square is:\",result)"
   ]
  },
  {
   "cell_type": "code",
   "execution_count": 8,
   "id": "8eb79dac",
   "metadata": {},
   "outputs": [
    {
     "name": "stdout",
     "output_type": "stream",
     "text": [
      "uppercase string: HARSHITHA\n"
     ]
    }
   ],
   "source": [
    "#function that takes astring to return in uppercase\n",
    "def to_uppercase(text):\n",
    "    return text.upper()\n",
    "result=to_uppercase(\"harshitha\")\n",
    "print(\"uppercase string:\",result)"
   ]
  },
  {
   "cell_type": "code",
   "execution_count": 9,
   "id": "5019d518",
   "metadata": {},
   "outputs": [
    {
     "name": "stdout",
     "output_type": "stream",
     "text": [
      "sorted numbers: [2, 4, 5, 8]\n"
     ]
    }
   ],
   "source": [
    "#built-in function to sort a list of integers\n",
    "numbers=[5,2,4,8]\n",
    "numbers.sort()\n",
    "print(\"sorted numbers:\",numbers)"
   ]
  },
  {
   "cell_type": "code",
   "execution_count": 11,
   "id": "e521a9e0",
   "metadata": {},
   "outputs": [
    {
     "name": "stdout",
     "output_type": "stream",
     "text": [
      "updated set: {0, 2, 4, 5, 8}\n"
     ]
    }
   ],
   "source": [
    "#to add new element and update a set\n",
    "this_set={2,4,5,8}\n",
    "this_set.add(0)\n",
    "print(\"updated set:\",this_set)"
   ]
  },
  {
   "cell_type": "code",
   "execution_count": 12,
   "id": "91a2a115",
   "metadata": {},
   "outputs": [
    {
     "name": "stdout",
     "output_type": "stream",
     "text": [
      "Merged dictionary: {'a': 10, 'b': 25, 'c': 45, 'd': 25}\n"
     ]
    }
   ],
   "source": [
    "#function to merge two dictionaries,if a key exists in both,sum their values\n",
    "dict1 = {'a': 10, 'b': 20, 'c': 30}\n",
    "dict2 = {'b': 5, 'c': 15, 'd': 25}\n",
    "merged_dict = {}\n",
    "\n",
    "for key in dict1:\n",
    "    merged_dict[key] = dict1[key]\n",
    "\n",
    "for key in dict2:\n",
    "    if key in merged_dict:\n",
    "        merged_dict[key] += dict2[key]\n",
    "    else:\n",
    "        merged_dict[key] = dict2[key]\n",
    "print(\"Merged dictionary:\", merged_dict)\n"
   ]
  }
 ],
 "metadata": {
  "kernelspec": {
   "display_name": "Python 3",
   "language": "python",
   "name": "python3"
  },
  "language_info": {
   "codemirror_mode": {
    "name": "ipython",
    "version": 3
   },
   "file_extension": ".py",
   "mimetype": "text/x-python",
   "name": "python",
   "nbconvert_exporter": "python",
   "pygments_lexer": "ipython3",
   "version": "3.8.4"
  }
 },
 "nbformat": 4,
 "nbformat_minor": 5
}
